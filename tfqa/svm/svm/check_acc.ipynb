{
 "cells": [
  {
   "cell_type": "code",
   "execution_count": 3,
   "metadata": {},
   "outputs": [],
   "source": [
    "import torch\n",
    "\n",
    "acc1 = torch.load('./acc_single_evidence_Llama-2-7b-chat-hf_fold1.pt')\n",
    "acc2 = torch.load('./acc_single_evidence_Llama-2-7b-chat-hf_fold2.pt')"
   ]
  },
  {
   "cell_type": "code",
   "execution_count": 4,
   "metadata": {},
   "outputs": [
    {
     "name": "stdout",
     "output_type": "stream",
     "text": [
      "tensor([0.5588, 0.6275, 0.5392, 0.6078, 0.4804, 0.6471, 0.5784, 0.6667, 0.5784,\n",
      "        0.6667, 0.5882, 0.6765, 0.6765, 0.6078, 0.5490, 0.6569, 0.6667, 0.6373,\n",
      "        0.6569, 0.5392, 0.5294, 0.5588, 0.6373, 0.5588, 0.5490, 0.4706, 0.5784,\n",
      "        0.6078, 0.5588, 0.5980, 0.5686, 0.5784])\n",
      "tensor([0.5243, 0.5631, 0.5534, 0.6019, 0.5437, 0.5922, 0.6408, 0.5146, 0.5437,\n",
      "        0.6408, 0.6408, 0.6019, 0.6796, 0.6893, 0.6699, 0.6311, 0.6311, 0.5437,\n",
      "        0.6699, 0.5534, 0.5825, 0.6019, 0.5631, 0.5340, 0.6408, 0.5049, 0.5243,\n",
      "        0.5534, 0.6117, 0.5243, 0.5340, 0.5437])\n"
     ]
    }
   ],
   "source": [
    "print(acc1)\n",
    "print(acc2)"
   ]
  },
  {
   "cell_type": "code",
   "execution_count": 6,
   "metadata": {},
   "outputs": [
    {
     "name": "stdout",
     "output_type": "stream",
     "text": [
      "tensor(0.5938)\n",
      "tensor(0.5859)\n"
     ]
    }
   ],
   "source": [
    "print(torch.mean(acc1))\n",
    "print(torch.mean(acc2))"
   ]
  }
 ],
 "metadata": {
  "kernelspec": {
   "display_name": "tfQA39",
   "language": "python",
   "name": "python3"
  },
  "language_info": {
   "codemirror_mode": {
    "name": "ipython",
    "version": 3
   },
   "file_extension": ".py",
   "mimetype": "text/x-python",
   "name": "python",
   "nbconvert_exporter": "python",
   "pygments_lexer": "ipython3",
   "version": "3.9.18"
  }
 },
 "nbformat": 4,
 "nbformat_minor": 2
}
