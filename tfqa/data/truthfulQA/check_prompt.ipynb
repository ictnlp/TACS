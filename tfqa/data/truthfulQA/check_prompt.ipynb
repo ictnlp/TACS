{
 "cells": [
  {
   "cell_type": "code",
   "execution_count": 1,
   "metadata": {},
   "outputs": [],
   "source": [
    "# 使用jsonlines 读取TruthfulQA.jsonl\n",
    "import jsonlines\n",
    "import json\n",
    "import os\n",
    "data1 = []\n",
    "with jsonlines.open('TruthfulQA.jsonl') as reader:\n",
    "    for obj in reader:\n",
    "        data1.append(obj)"
   ]
  },
  {
   "cell_type": "code",
   "execution_count": 2,
   "metadata": {},
   "outputs": [
    {
     "name": "stderr",
     "output_type": "stream",
     "text": [
      "/data/yutian/anaconda3/envs/tfQA39/lib/python3.9/site-packages/tqdm/auto.py:21: TqdmWarning: IProgress not found. Please update jupyter and ipywidgets. See https://ipywidgets.readthedocs.io/en/stable/user_install.html\n",
      "  from .autonotebook import tqdm as notebook_tqdm\n"
     ]
    }
   ],
   "source": [
    "import torch\n",
    "\n",
    "data2 = torch.load('/data/yutian/mcmctfqa/truthfulQA_sorted.pt')"
   ]
  },
  {
   "cell_type": "code",
   "execution_count": 3,
   "metadata": {},
   "outputs": [],
   "source": [
    "for i in range(817):\n",
    "    for key in data1[i].keys():\n",
    "        if data1[i][key]==data2[i][key]:\n",
    "            pass\n",
    "        else:\n",
    "            print('error')\n",
    "            print(i)\n",
    "            print(key)\n",
    "            print(data1[i][key])\n",
    "            print(data2[i][key])\n"
   ]
  },
  {
   "cell_type": "code",
   "execution_count": 4,
   "metadata": {},
   "outputs": [
    {
     "name": "stdout",
     "output_type": "stream",
     "text": [
      "dict_keys(['Type', 'Category', 'Question', 'Best Answer', 'Correct Answers', 'Incorrect Answers', 'Source', 'single_evidence_true_false', 'single_evidence_true_false_label', 'single_evidence_false_true', 'single_evidence_false_true_label', 'double_dif_random_evidence_answer_true_false', 'double_dif_random_evidence_answer_true_false_label', 'double_dif_random_evidence_answer_false_true', 'double_dif_random_evidence_answer_false_true_label', 'inst_4_few_shot_single_info_prompt', 'double_info_inst_4_few_shot_double_info_incomplete'])\n"
     ]
    }
   ],
   "source": [
    "print(data1[0].keys())"
   ]
  },
  {
   "cell_type": "code",
   "execution_count": 5,
   "metadata": {},
   "outputs": [],
   "source": [
    "# 将键值 inst_4_few_shot_single_info_prompt 改成 open_ended_single_evidence_prompt\n",
    "\n",
    "for i in range(817):\n",
    "    data1[i]['open_ended_single_evidence_prompt'] = data1[i]['inst_4_few_shot_single_info_prompt']\n",
    "    del data1[i]['inst_4_few_shot_single_info_prompt']\n",
    "\n",
    "\n",
    "\n",
    "# 将键值为 double_info_inst_4_few_shot_double_info_incomplete 的改成 open_ended_double_evidence_prompt\n",
    "for i in range(817):\n",
    "    data1[i]['open_ended_double_evidence_prompt'] = data1[i]['double_info_inst_4_few_shot_double_info_incomplete']\n",
    "    del data1[i]['double_info_inst_4_few_shot_double_info_incomplete']"
   ]
  },
  {
   "cell_type": "code",
   "execution_count": 8,
   "metadata": {},
   "outputs": [],
   "source": [
    "with jsonlines.open('./TruthfulQA.jsonl', mode='w') as writer:\n",
    "    writer.write_all(data1)"
   ]
  }
 ],
 "metadata": {
  "kernelspec": {
   "display_name": "tfQA39",
   "language": "python",
   "name": "python3"
  },
  "language_info": {
   "codemirror_mode": {
    "name": "ipython",
    "version": 3
   },
   "file_extension": ".py",
   "mimetype": "text/x-python",
   "name": "python",
   "nbconvert_exporter": "python",
   "pygments_lexer": "ipython3",
   "version": "3.9.18"
  }
 },
 "nbformat": 4,
 "nbformat_minor": 2
}
